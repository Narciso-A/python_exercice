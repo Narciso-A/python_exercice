{
  "nbformat": 4,
  "nbformat_minor": 0,
  "metadata": {
    "colab": {
      "provenance": [],
      "authorship_tag": "ABX9TyN+Khja4sktZGJkceXcstVe",
      "include_colab_link": true
    },
    "kernelspec": {
      "name": "python3",
      "display_name": "Python 3"
    },
    "language_info": {
      "name": "python"
    }
  },
  "cells": [
    {
      "cell_type": "markdown",
      "metadata": {
        "id": "view-in-github",
        "colab_type": "text"
      },
      "source": [
        "<a href=\"https://colab.research.google.com/github/Narciso-A/python_exercice/blob/main/4_8_Python_Inheritance.ipynb\" target=\"_parent\"><img src=\"https://colab.research.google.com/assets/colab-badge.svg\" alt=\"Open In Colab\"/></a>"
      ]
    },
    {
      "cell_type": "code",
      "source": [
        "import random"
      ],
      "metadata": {
        "id": "HKR1c4ablnwg"
      },
      "execution_count": null,
      "outputs": []
    },
    {
      "cell_type": "code",
      "source": [
        "class Statisticien:\n",
        "\n",
        "    def __init__(self):\n",
        "        self.logique = 0\n",
        "        self.memoire = 0\n",
        "        self.creativite = 0\n",
        "        self.total = 0\n",
        "        self.initialisation()\n",
        "\n",
        "    def initialisation(self):\n",
        "        cond = False\n",
        "        while not cond:\n",
        "            self.logique = random.randint(0, 100)\n",
        "            self.memoire = random.randint(0, 100)\n",
        "            self.creativite = random.randint(0, 100)\n",
        "            total = self.logique + self.memoire + self.creativite\n",
        "            self.total = total\n",
        "\n",
        "            cond = (111 <= total <= 177) and (total%2 != 0) and (total%5 != 0)\n",
        "\n",
        "    def hello(self):\n",
        "        return print(f'Hello Python')\n",
        "\n",
        "    def next_day(self,day):\n",
        "        days = ['Monday', 'Tuesday', 'Wednesday', 'Thursday', 'Friday', 'Saturday', 'Sunday']\n",
        "        idx = days.index(day)\n",
        "        idx_next = (idx+1)%7\n",
        "        return print(f'{days[idx]}-> {days[idx_next]}')\n"
      ],
      "metadata": {
        "id": "ijlU00jolq37"
      },
      "execution_count": null,
      "outputs": []
    },
    {
      "cell_type": "code",
      "execution_count": null,
      "metadata": {
        "id": "Hx_N0HUdJQqJ"
      },
      "outputs": [],
      "source": [
        "class DataAnalyst(Statisticien):\n",
        "    def __init__(self, nom, prenom, age, sexe, formation_precedente):\n",
        "        super().__init__()\n",
        "        self.nom = nom\n",
        "        self.prenom = prenom\n",
        "        self.age = age\n",
        "        self.sexe = sexe\n",
        "        self.formation_precedente = formation_precedente\n",
        "        self.motivation = 100\n",
        "        self.progression = 0\n",
        "\n",
        "    def suivre_formation(self):\n",
        "        self.motivation -= random.randint(5, 25)\n",
        "        self.progression += random.randint(20, 30)\n",
        "        return \"suivre_formation\"\n",
        "\n",
        "    def bosser_plus(self):\n",
        "        rand_value = random.randint(10, 30)\n",
        "        self.motivation += rand_value\n",
        "        self.progression += rand_value\n",
        "        return \"bosser_plus\"\n",
        "\n",
        "    def echouer(self):\n",
        "        self.motivation -= random.randint(20, 40)\n",
        "        self.progression += random.randint(20, 40)\n",
        "        return \"echouer\"\n",
        "\n",
        "    def reussir(self):\n",
        "        self.motivation += random.randint(20, 40)\n",
        "        self.progression += random.randint(10, 20)\n",
        "        return \"reussir\"\n",
        "\n",
        "    def afficher_etat(self, methode, iteration):\n",
        "        print(f\"Iteration #{iteration}\")\n",
        "        print(f\"Méthode utilisée : {methode}\")\n",
        "        print(f\"Motivation: {self.motivation}, Progression: {self.progression}\")\n",
        "        print(\"-----\")"
      ]
    },
    {
      "cell_type": "code",
      "source": [
        "# iteration sur les methodes\n",
        "def etape(data_analyst):\n",
        "  iteration = 0\n",
        "  while (0 < data_analyst.motivation) and (data_analyst.progression < 100):\n",
        "      iteration += 1\n",
        "      action = random.choice([data_analyst.suivre_formation, data_analyst.bosser_plus, data_analyst.echouer, data_analyst.reussir])\n",
        "      methode_utilisee = action()\n",
        "      data_analyst.afficher_etat(methode_utilisee, iteration)\n",
        "\n",
        "  if data_analyst.motivation <= 0:\n",
        "      print(\"BRAVO TU AS GAGNÉ !!!\")\n",
        "  elif data_analyst.progression >= 100:\n",
        "      print(\"BRAVO TU AS APPRIS !!!\")"
      ],
      "metadata": {
        "id": "75cNwamvJYCG"
      },
      "execution_count": null,
      "outputs": []
    },
    {
      "cell_type": "code",
      "source": [
        "# Instanciation de l'objet\n",
        "data_analyst = DataAnalyst(\"Potter\", \"Harry\", 43, \"Masculin\", \"Poudlard\")\n",
        "\n",
        "# prog principale\n",
        "etape(data_analyst)"
      ],
      "metadata": {
        "colab": {
          "base_uri": "https://localhost:8080/"
        },
        "id": "nIDVLQHJLEj1",
        "outputId": "b06f8051-8b54-42bb-9d90-445459aa4ee8"
      },
      "execution_count": null,
      "outputs": [
        {
          "output_type": "stream",
          "name": "stdout",
          "text": [
            "Iteration #1\n",
            "Méthode utilisée : reussir\n",
            "Motivation: 139, Progression: 13\n",
            "-----\n",
            "Iteration #2\n",
            "Méthode utilisée : reussir\n",
            "Motivation: 174, Progression: 29\n",
            "-----\n",
            "Iteration #3\n",
            "Méthode utilisée : suivre_formation\n",
            "Motivation: 153, Progression: 49\n",
            "-----\n",
            "Iteration #4\n",
            "Méthode utilisée : echouer\n",
            "Motivation: 115, Progression: 83\n",
            "-----\n",
            "Iteration #5\n",
            "Méthode utilisée : bosser_plus\n",
            "Motivation: 144, Progression: 112\n",
            "-----\n",
            "BRAVO TU AS APPRIS !!!\n"
          ]
        }
      ]
    },
    {
      "cell_type": "code",
      "source": [
        "data_analyst.__dict__"
      ],
      "metadata": {
        "colab": {
          "base_uri": "https://localhost:8080/"
        },
        "id": "78rily6VmtEn",
        "outputId": "fe5f5559-fe3a-4d74-da68-ba0f34d3ec28"
      },
      "execution_count": null,
      "outputs": [
        {
          "output_type": "execute_result",
          "data": {
            "text/plain": [
              "{'logique': 88,\n",
              " 'memoire': 74,\n",
              " 'creativite': 15,\n",
              " 'total': 177,\n",
              " 'nom': 'Potter',\n",
              " 'prenom': 'Harry',\n",
              " 'age': 43,\n",
              " 'sexe': 'Masculin',\n",
              " 'formation_precedente': 'Poudlard',\n",
              " 'motivation': 144,\n",
              " 'progression': 112}"
            ]
          },
          "metadata": {},
          "execution_count": 6
        }
      ]
    },
    {
      "cell_type": "code",
      "source": [
        "data_analyst.hello()"
      ],
      "metadata": {
        "colab": {
          "base_uri": "https://localhost:8080/"
        },
        "id": "0Z4UeE87kh3R",
        "outputId": "f036a83f-a6fc-4287-efa8-86aabded2ccf"
      },
      "execution_count": null,
      "outputs": [
        {
          "output_type": "stream",
          "name": "stdout",
          "text": [
            "Hello Python\n"
          ]
        }
      ]
    },
    {
      "cell_type": "code",
      "source": [
        "data_analyst.next_day(\"Tuesday\")"
      ],
      "metadata": {
        "colab": {
          "base_uri": "https://localhost:8080/"
        },
        "id": "76P78EY9cRKx",
        "outputId": "c80dbe58-239e-44d0-c689-baf350828480"
      },
      "execution_count": null,
      "outputs": [
        {
          "output_type": "stream",
          "name": "stdout",
          "text": [
            "Tuesday-> Wednesday\n"
          ]
        }
      ]
    },
    {
      "cell_type": "code",
      "source": [
        "data_analyst.next_day(\"Sunday\")"
      ],
      "metadata": {
        "colab": {
          "base_uri": "https://localhost:8080/"
        },
        "id": "fUWIKNhScaLd",
        "outputId": "9cf41299-ca8e-4fdd-ac00-245244a955dc"
      },
      "execution_count": null,
      "outputs": [
        {
          "output_type": "stream",
          "name": "stdout",
          "text": [
            "Sunday-> Monday\n"
          ]
        }
      ]
    },
    {
      "cell_type": "code",
      "source": [
        "help(data_analyst)"
      ],
      "metadata": {
        "colab": {
          "base_uri": "https://localhost:8080/"
        },
        "id": "EEA-EMAPrGMX",
        "outputId": "245e73fa-3079-4ee0-cb74-84fff9283242"
      },
      "execution_count": null,
      "outputs": [
        {
          "output_type": "stream",
          "name": "stdout",
          "text": [
            "Help on DataAnalyst in module __main__ object:\n",
            "\n",
            "class DataAnalyst(Statisticien)\n",
            " |  DataAnalyst(nom, prenom, age, sexe, formation_precedente)\n",
            " |  \n",
            " |  Method resolution order:\n",
            " |      DataAnalyst\n",
            " |      Statisticien\n",
            " |      builtins.object\n",
            " |  \n",
            " |  Methods defined here:\n",
            " |  \n",
            " |  __init__(self, nom, prenom, age, sexe, formation_precedente)\n",
            " |      Initialize self.  See help(type(self)) for accurate signature.\n",
            " |  \n",
            " |  afficher_etat(self, methode, iteration)\n",
            " |  \n",
            " |  bosser_plus(self)\n",
            " |  \n",
            " |  echouer(self)\n",
            " |  \n",
            " |  reussir(self)\n",
            " |  \n",
            " |  suivre_formation(self)\n",
            " |  \n",
            " |  ----------------------------------------------------------------------\n",
            " |  Methods inherited from Statisticien:\n",
            " |  \n",
            " |  hello(self)\n",
            " |  \n",
            " |  initialisation(self)\n",
            " |  \n",
            " |  next_day(self, day)\n",
            " |  \n",
            " |  ----------------------------------------------------------------------\n",
            " |  Data descriptors inherited from Statisticien:\n",
            " |  \n",
            " |  __dict__\n",
            " |      dictionary for instance variables (if defined)\n",
            " |  \n",
            " |  __weakref__\n",
            " |      list of weak references to the object (if defined)\n",
            "\n"
          ]
        }
      ]
    },
    {
      "cell_type": "code",
      "source": [],
      "metadata": {
        "id": "khJsZwtauKlg"
      },
      "execution_count": null,
      "outputs": []
    }
  ]
}